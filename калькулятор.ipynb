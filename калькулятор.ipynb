{
 "cells": [
  {
   "cell_type": "code",
   "execution_count": 1,
   "id": "0d2a15e2",
   "metadata": {},
   "outputs": [
    {
     "name": "stdout",
     "output_type": "stream",
     "text": [
      "пять плюс семь\n",
      "двенадцать\n"
     ]
    }
   ],
   "source": [
    "def calculate_expression(expression):\n",
    "    numbers = {\n",
    "        'ноль': 0, \n",
    "        'один': 1,\n",
    "        'два': 2, \n",
    "        'три': 3,\n",
    "        'четыре': 4,\n",
    "        'пять': 5, \n",
    "        'шесть': 6,\n",
    "        'семь': 7,\n",
    "        'восемь': 8, \n",
    "        'девять': 9,\n",
    "        'десять': 10,\n",
    "        'одиннадцать': 11,\n",
    "        'двенадцать': 12, \n",
    "        'тринадцать': 13,\n",
    "        'четырнадцать': 14,\n",
    "        'пятнадцать': 15,\n",
    "        'шестнадцать': 16,\n",
    "        'семнадцать': 17,\n",
    "        'восемнадцать': 18,\n",
    "        'девятнадцать': 19, \n",
    "        'двадцать': 20,\n",
    "        'тридцать': 30,\n",
    "        'сорок': 40, \n",
    "        'пятьдесят': 50,\n",
    "        'шестьдесят': 60, \n",
    "        'семьдесят': 70,\n",
    "        'восемьдесят': 80, \n",
    "        'девяносто': 90, \n",
    "        'сто': 100\n",
    "    }\n",
    "\n",
    "    ops = {'плюс': '+', 'минус': '-', 'умножить': '*'}\n",
    "\n",
    "    num1, op, num2 = expression.split()\n",
    "\n",
    "    result = eval(f'{numbers[num1]} {ops[op]} {numbers[num2]}')\n",
    "\n",
    "    number_words = [\n",
    "        'ноль', 'один', 'два', 'три', 'четыре',\n",
    "        'пять', 'шесть', 'семь', 'восемь', 'девять',\n",
    "        'десять', 'одиннадцать', 'двенадцать', 'тринадцать',\n",
    "        'четырнадцать', 'пятнадцать', 'шестнадцать', 'семнадцать',\n",
    "        'восемнадцать', 'девятнадцать', 'двадцать', 'тридцать',\n",
    "        'сорок', 'пятьдесят', 'шестьдесят', 'семьдесят',\n",
    "        'восемьдесят', 'девяносто', 'сто'\n",
    "    ]\n",
    "\n",
    "    return number_words[result]\n",
    "\n",
    "\n",
    "a = input()\n",
    "print(calculate_expression(a))"
   ]
  },
  {
   "cell_type": "code",
   "execution_count": null,
   "id": "287b3bcd",
   "metadata": {},
   "outputs": [],
   "source": []
  }
 ],
 "metadata": {
  "kernelspec": {
   "display_name": "Python 3 (ipykernel)",
   "language": "python",
   "name": "python3"
  },
  "language_info": {
   "codemirror_mode": {
    "name": "ipython",
    "version": 3
   },
   "file_extension": ".py",
   "mimetype": "text/x-python",
   "name": "python",
   "nbconvert_exporter": "python",
   "pygments_lexer": "ipython3",
   "version": "3.11.4"
  }
 },
 "nbformat": 4,
 "nbformat_minor": 5
}
