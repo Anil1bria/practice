{
 "cells": [
  {
   "cell_type": "code",
   "execution_count": null,
   "id": "e72bae13",
   "metadata": {},
   "outputs": [
    {
     "name": "stdout",
     "output_type": "stream",
     "text": [
      "1 1 1 1 1 1 1 1\n",
      "1 1 1 1 1 1 1 1\n",
      "1 1 1 1 1 1 1 1\n",
      "1 1 1 1 1 1 1 1\n",
      "1 1 1 1 1 1 1 1\n",
      "1 1 1 1 1 1 1 1\n",
      "1 1 1 1 1 1 1 1\n",
      "1 1 1 1 1 1 1 1\n"
     ]
    }
   ],
   "source": [
    "def g(n):\n",
    "    return g(input('Введите координату, прошлая не удовлетворяет условиям ')) if n not in '12345678abcdefgh' else n\n",
    "clovar = {'a': 0,\n",
    "       'b': 1,\n",
    "       'c': 2,\n",
    "       'd': 3,\n",
    "       'e': 4,\n",
    "       'f': 5,\n",
    "       'g': 6,\n",
    "       'h': 7,\n",
    "       '1': 7,\n",
    "       '2': 6,\n",
    "       '3': 5,\n",
    "       '4': 4,\n",
    "       '5': 3,\n",
    "       '6': 2,\n",
    "       '7': 1,\n",
    "       '8': 0}\n",
    "field = [['1', '1', '1', '1', '1', '1', '1', '1'] for i in range(8)]\n",
    "field_win = [['0', '0', '0', '0', '0', '0', '0', '0'] for i in range(8)]\n",
    "win = 0 \n",
    "k = 0\n",
    "for i in range(8):\n",
    "    print(*field[i])\n",
    "while win == 0:\n",
    "    player_1 = g(input('1 player \\n Введите координату'))\n",
    "    while True:\n",
    "        if player_1.isdigit() and ('1' in ''.join(field[clovar[player_1]])) :\n",
    "            field[clovar[player_1]] = ['0', '0', '0', '0', '0', '0', '0', '0']\n",
    "            break\n",
    "        elif ('1' in ''.join(field[clovar[player_1]])):\n",
    "            for i in range(8):\n",
    "                if field[i][clovar[player_1]] == '1':\n",
    "                    k += 1\n",
    "                field[i][a_1[player_1]] = '0'\n",
    "            if k > 0:\n",
    "                break   \n",
    "    \n",
    "        player_1 = g(input(f'Введите координату, на {player_1} нет фишек, которых можно забрать '))\n",
    "    for i in range(8):\n",
    "        print(*field[i])\n",
    "    if field == field_win:\n",
    "        win = '1 player'\n",
    "        break\n",
    "        \n",
    "    \n",
    "    player_2 = g(input('2 player \\n Введите координату '))\n",
    "    while True:\n",
    "        if player_2.isdigit() and ('1' in ''.join(field[clovar[player_2]])) :\n",
    "            field[clovar[player_2]] = ['0', '0', '0', '0', '0', '0', '0', '0']\n",
    "            break\n",
    "        elif ('1' in ''.join(field[clovar[player_2]])):\n",
    "            for i in range(8):\n",
    "                if field[i][clovar[player_2]] == '1':\n",
    "                    k += 1\n",
    "                field[i][a_1[player_2]] = '0'\n",
    "            if k > 0:\n",
    "                break   \n",
    "    \n",
    "        player_2 = g(input(f'Введите координату, на {player_2} нет фишек, которых можно забрать '))\n",
    "    for i in range(8):\n",
    "        print(*field[i])\n",
    "    if field == field_win:\n",
    "        win = '2 player'\n",
    "        \n",
    "print(f'Ура выиграл {win}')\n",
    "    "
   ]
  },
  {
   "cell_type": "code",
   "execution_count": null,
   "id": "016f4192",
   "metadata": {},
   "outputs": [],
   "source": []
  }
 ],
 "metadata": {
  "kernelspec": {
   "display_name": "Python 3 (ipykernel)",
   "language": "python",
   "name": "python3"
  },
  "language_info": {
   "codemirror_mode": {
    "name": "ipython",
    "version": 3
   },
   "file_extension": ".py",
   "mimetype": "text/x-python",
   "name": "python",
   "nbconvert_exporter": "python",
   "pygments_lexer": "ipython3",
   "version": "3.11.4"
  }
 },
 "nbformat": 4,
 "nbformat_minor": 5
}
