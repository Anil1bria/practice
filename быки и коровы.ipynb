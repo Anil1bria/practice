{
 "cells": [
  {
   "cell_type": "code",
   "execution_count": null,
   "id": "c45a25a4",
   "metadata": {},
   "outputs": [
    {
     "name": "stdout",
     "output_type": "stream",
     "text": [
      "Добро пожаловать в игру 'Быки и коровы'!\n",
      "Правила игры: компьютер загадывает четырехзначное число без повторяющихся цифр, а вы должны его отгадать.\n",
      "После каждой попытки компьютер сообщит вам количество быков и коров.\n"
     ]
    }
   ],
   "source": [
    "import random\n",
    "\n",
    "def generate_number():\n",
    "    \n",
    "    digits = list(range(10))\n",
    "    random.shuffle(digits)\n",
    "    return ''.join(str(d) for d in digits[:4])\n",
    "\n",
    "def get_user_input():\n",
    "    \n",
    "    while True:\n",
    "        number = input(\"Введите четырехзначное число: \")\n",
    "        if len(number) != 4 or not number.isdigit() or len(set(number)) != 4:\n",
    "            print(\"Некорректный ввод. Пожалуйста, введите четырехзначное число без повторяющихся цифр.\")\n",
    "        else:\n",
    "            return number\n",
    "\n",
    "def count_bulls_and_cows(secret_number, player_number):\n",
    "    bulls = 0\n",
    "    cows = 0\n",
    "    for i in range(4):\n",
    "        if player_number[i] == secret_number[i]:\n",
    "            bulls += 1\n",
    "        elif player_number[i] in secret_number:\n",
    "            cows += 1\n",
    "    return bulls, cows\n",
    "\n",
    "def play_game():\n",
    "    secret_number = generate_number()\n",
    "    print(\"Добро пожаловать в игру 'Быки и коровы'!\")\n",
    "    print(\"Правила игры: компьютер загадывает четырехзначное число без повторяющихся цифр, а вы должны его отгадать.\")\n",
    "    print(\"После каждой попытки компьютер сообщит вам количество быков и коров.\")\n",
    "    while True:\n",
    "        player_number = get_user_input()\n",
    "        bulls, cows = count_bulls_and_cows(secret_number, player_number)\n",
    "        print(f\"Быки: {bulls}, Коровы: {cows}\")\n",
    "        if bulls == 4:\n",
    "            print(\" Вы выиграли!\")\n",
    "            break\n",
    "\n",
    "play_game()\n",
    "\n"
   ]
  },
  {
   "cell_type": "code",
   "execution_count": null,
   "id": "0f18cda9",
   "metadata": {},
   "outputs": [],
   "source": []
  }
 ],
 "metadata": {
  "kernelspec": {
   "display_name": "Python 3 (ipykernel)",
   "language": "python",
   "name": "python3"
  },
  "language_info": {
   "codemirror_mode": {
    "name": "ipython",
    "version": 3
   },
   "file_extension": ".py",
   "mimetype": "text/x-python",
   "name": "python",
   "nbconvert_exporter": "python",
   "pygments_lexer": "ipython3",
   "version": "3.11.4"
  }
 },
 "nbformat": 4,
 "nbformat_minor": 5
}
