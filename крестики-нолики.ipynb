{
 "cells": [
  {
   "cell_type": "code",
   "execution_count": null,
   "id": "45ef1a42",
   "metadata": {},
   "outputs": [
    {
     "name": "stdout",
     "output_type": "stream",
     "text": [
      "игра крестики нолики!\n",
      "____________\n",
      "   |   |   |\n",
      " 1 | 2 | 3 |\n",
      "___|___|___|\n",
      "   |   |   |\n",
      " 4 | 5 | 6 |\n",
      "___|___|___|\n",
      "   |   |   |\n",
      " 7 | 8 | 9 |\n",
      "___|___|___|\n"
     ]
    }
   ],
   "source": [
    "board_size = 3\n",
    "board = [1,2,3,4,5,6,7,8,9]\n",
    "\n",
    "def draw_board():\n",
    "    print('_' *4* board_size)\n",
    "    for i in range(board_size):\n",
    "        print((' ' * 3 + '|')*3)\n",
    "        print('', board[i*3], '|', board[1 + i*3], '|', board[2 + i*3], '|')\n",
    "        print(('_' *3 + '|')*3)           \n",
    "\n",
    "def game_step(index, char):\n",
    "    if(index > 9 or index < 1 or board[index-1] in ('X', 'O')):\n",
    "        return False\n",
    "    board[index-1] = char\n",
    "    return True\n",
    "\n",
    "def check_win():\n",
    "    win_combination = (\n",
    "        (0,1,2), (3,4,5), (6,7,8),\n",
    "        (0,3,6), (1,4,7), (2,5,8),\n",
    "        (0,4,8), (2,4,6)\n",
    "    )\n",
    "    for pos in win_combination:\n",
    "        if (board[pos[0]] == board[pos[1]] and board[pos[1]] == board[pos[2]]):\n",
    "            return board[pos[0]]\n",
    "    return False\n",
    "\n",
    "def start_game():\n",
    "    current_player = 'X'\n",
    "    step = 1\n",
    "    draw_board()\n",
    "    \n",
    "    while (step<10) and (check_win() == False):\n",
    "        index = input('ходит игрок ' + current_player + '. введите номер поля (0-выход): ')\n",
    "        if (index == '0'):\n",
    "            break\n",
    "        \n",
    "        if (game_step(int(index), current_player)):\n",
    "            print('удачный ход')\n",
    "            if (current_player == 'X'):\n",
    "                current_player = 'O'\n",
    "            else:\n",
    "                current_player = 'X'\n",
    "            \n",
    "            draw_board()\n",
    "            step += 1\n",
    "        else:\n",
    "            print('неверный номер, повторите!')\n",
    "    \n",
    "    if (step == 10):\n",
    "        print('игра окончена ничья!')\n",
    "    else:\n",
    "        print('выиграл ' + check_win())\n",
    "    \n",
    "print('игра крестики нолики!')\n",
    "\n",
    "start_game()\n"
   ]
  },
  {
   "cell_type": "code",
   "execution_count": null,
   "id": "6ecdfff1",
   "metadata": {},
   "outputs": [],
   "source": []
  }
 ],
 "metadata": {
  "kernelspec": {
   "display_name": "Python 3 (ipykernel)",
   "language": "python",
   "name": "python3"
  },
  "language_info": {
   "codemirror_mode": {
    "name": "ipython",
    "version": 3
   },
   "file_extension": ".py",
   "mimetype": "text/x-python",
   "name": "python",
   "nbconvert_exporter": "python",
   "pygments_lexer": "ipython3",
   "version": "3.11.4"
  }
 },
 "nbformat": 4,
 "nbformat_minor": 5
}
